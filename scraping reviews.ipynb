{
 "cells": [
  {
   "cell_type": "raw",
   "metadata": {},
   "source": [
    "Product Name : Redmi 9A (Nature Green, 2GB RAM, 32GB Storage) | 2GHz Octa-core Helio G25 Processor | 5000 mAh Battery\n",
    "Product url  : https://www.amazon.in/Redmi-9A-2GB-32GB-Storage/dp/B08696XB4B/"
   ]
  },
  {
   "cell_type": "code",
   "execution_count": 3,
   "metadata": {},
   "outputs": [],
   "source": [
    "#importing necessary packages\n",
    "import numpy as np\n",
    "import pandas as pd\n",
    "from bs4 import BeautifulSoup as soup\n",
    "import requests"
   ]
  },
  {
   "cell_type": "code",
   "execution_count": 4,
   "metadata": {},
   "outputs": [],
   "source": [
    "# base url of the customer reviews\n",
    "\n",
    "base_url=\"https://www.amazon.in/product-reviews/B08696XB4B/?pageNumber=\""
   ]
  },
  {
   "cell_type": "code",
   "execution_count": 5,
   "metadata": {},
   "outputs": [
    {
     "data": {
      "text/plain": [
       "{'User-Agent': 'python-requests/2.24.0', 'Accept-Encoding': 'gzip, deflate', 'Accept': '*/*', 'Connection': 'keep-alive'}"
      ]
     },
     "execution_count": 5,
     "metadata": {},
     "output_type": "execute_result"
    }
   ],
   "source": [
    "# checking the headers\n",
    "requests.Session().headers"
   ]
  },
  {
   "cell_type": "code",
   "execution_count": 6,
   "metadata": {},
   "outputs": [],
   "source": [
    "# modifying headers to make a request as webbrowser\n",
    "header={'user-agent':\"Mozilla/5.0 (Windows NT 10.0; Win64; x64) AppleWebKit/537.36 (KHTML, like Gecko) Chrome/91.0.4472.77 Safari/537.36\"}\n",
    "cookies={}"
   ]
  },
  {
   "cell_type": "code",
   "execution_count": 7,
   "metadata": {},
   "outputs": [],
   "source": [
    "rating=[]\n",
    "title=[]\n",
    "body=[]"
   ]
  },
  {
   "cell_type": "code",
   "execution_count": 8,
   "metadata": {},
   "outputs": [],
   "source": [
    "# function to retrive a page and return soup object\n",
    "def retrive_page(page_no):\n",
    "    req=requests.get(base_url+str(page_no),headers=header,cookies=cookies)\n",
    "    if req.status_code!=200:\n",
    "        return None\n",
    "    data=soup(req.content,\"html.parser\")\n",
    "    return data"
   ]
  },
  {
   "cell_type": "code",
   "execution_count": 17,
   "metadata": {},
   "outputs": [],
   "source": [
    "# function to crwal n pages\n",
    "def retrive(pages):\n",
    "    for i in range(1,pages):\n",
    "        data=retrive_page(i)\n",
    "        if data:\n",
    "            data=data.find_all(\"div\",{'class':\"a-section celwidget\"})\n",
    "            insertData(data)"
   ]
  },
  {
   "cell_type": "code",
   "execution_count": 10,
   "metadata": {},
   "outputs": [],
   "source": [
    "# inserting the reviews\n",
    "\n",
    "def insertData(reviewCard):\n",
    "       for each in reviewCard:\n",
    "            rating.append(int(each.find(\"i\",{\"data-hook\":\"review-star-rating\"}).text[0]))\n",
    "            title.append(each.find(\"a\",{\"data-hook\":\"review-title\"}).text.strip('\\n'))\n",
    "            body.append(each.find(\"span\",{\"data-hook\":\"review-body\"}).text.strip('\\n'))\n",
    "            "
   ]
  },
  {
   "cell_type": "code",
   "execution_count": 15,
   "metadata": {},
   "outputs": [
    {
     "name": "stdout",
     "output_type": "stream",
     "text": [
      "843 ms ± 144 ms per loop (mean ± std. dev. of 7 runs, 1 loop each)\n"
     ]
    }
   ],
   "source": [
    "# retrive n pages\n",
    "\n",
    "%timeit retrive(500)"
   ]
  },
  {
   "cell_type": "code",
   "execution_count": 11,
   "metadata": {},
   "outputs": [],
   "source": [
    "# creating a data frame\n",
    "df=pd.DataFrame(list(zip(title,rating,body)),columns=[\"title\",\"rating\",\"body\"])"
   ]
  },
  {
   "cell_type": "code",
   "execution_count": 19,
   "metadata": {},
   "outputs": [],
   "source": [
    " df.head(10)"
   ]
  },
  {
   "cell_type": "code",
   "execution_count": 13,
   "metadata": {},
   "outputs": [],
   "source": [
    "# exporting to csv file\n",
    "df.to_csv(\"dataset/reviews.csv\",index=False)"
   ]
  },
  {
   "cell_type": "code",
   "execution_count": null,
   "metadata": {},
   "outputs": [],
   "source": []
  }
 ],
 "metadata": {
  "kernelspec": {
   "display_name": "Python 3",
   "language": "python",
   "name": "python3"
  },
  "language_info": {
   "codemirror_mode": {
    "name": "ipython",
    "version": 3
   },
   "file_extension": ".py",
   "mimetype": "text/x-python",
   "name": "python",
   "nbconvert_exporter": "python",
   "pygments_lexer": "ipython3",
   "version": "3.8.5"
  }
 },
 "nbformat": 4,
 "nbformat_minor": 4
}
