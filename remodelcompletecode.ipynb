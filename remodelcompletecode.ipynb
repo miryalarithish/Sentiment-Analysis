{
 "cells": [
  {
   "cell_type": "markdown",
   "metadata": {},
   "source": [
    "# Sentimental Analysis of Product based reviews "
   ]
  },
  {
   "cell_type": "raw",
   "metadata": {},
   "source": [
    "Sentiment Analysis also known as Opinion Mining refers to the use of natural language, text analysis to systematically identify, extract, quantify, and study affective states and subjective information. Sentiment analysis is widely applied to reviews and survey responses, online and social media, and healthcare materials for applications that range from marketing to customer service to clinical medicine"
   ]
  },
  {
   "cell_type": "raw",
   "metadata": {},
   "source": [
    "In this project we aim to perform Sentiment Analysis of product based reviews. Data used in this project are online reviews collected from \"amazon.com\". We expect to do review-level categorization of review data with promising outcomes."
   ]
  },
  {
   "cell_type": "markdown",
   "metadata": {},
   "source": [
    "###         Importing the required packages"
   ]
  },
  {
   "cell_type": "code",
   "execution_count": 1,
   "metadata": {},
   "outputs": [],
   "source": [
    "import pandas as pd   # data processing, CSV file I/O (e.g. pd.read_csv)\n",
    "\n",
    "import numpy as np    # linear algebra\n",
    "\n",
    "import matplotlib.pyplot as plt\n",
    "\n",
    "import seaborn as sns\n",
    "\n",
    "%matplotlib inline\n",
    "\n",
    "#%config InlineBackend.figure_format = \"retina\"\n",
    "\n",
    "import time\n",
    "\n",
    "from sklearn.model_selection import  train_test_split \n",
    "\n",
    "from sklearn.metrics import roc_curve, auc\n",
    "\n",
    "from sklearn.metrics import classification_report, accuracy_score,confusion_matrix\n",
    "\n",
    "from sklearn.feature_extraction.text import TfidfVectorizer\n",
    "\n",
    "from sklearn.svm import SVC\n",
    "\n",
    "from sklearn.naive_bayes import MultinomialNB , BernoulliNB\n",
    "\n",
    "from sklearn.ensemble import RandomForestClassifier \n",
    "\n",
    "import os"
   ]
  },
  {
   "cell_type": "code",
   "execution_count": 2,
   "metadata": {},
   "outputs": [],
   "source": [
    "# ignore warinings\n",
    "import warnings\n",
    "warnings.filterwarnings('ignore')"
   ]
  },
  {
   "cell_type": "code",
   "execution_count": 3,
   "metadata": {},
   "outputs": [
    {
     "name": "stdout",
     "output_type": "stream",
     "text": [
      "C:\\Users\\Rithish Miryala\\Downloads\\mini proj build \n",
      "\n"
     ]
    }
   ],
   "source": [
    "print(os.getcwd(),\"\\n\")"
   ]
  },
  {
   "cell_type": "code",
   "execution_count": 4,
   "metadata": {},
   "outputs": [],
   "source": [
    "# Input data files are available in the read-only \"dataset/\" directory\n",
    "# For example, running below cell will list all files under the dataset directory"
   ]
  },
  {
   "cell_type": "code",
   "execution_count": 5,
   "metadata": {},
   "outputs": [
    {
     "name": "stdout",
     "output_type": "stream",
     "text": [
      "dataset/Amazon_Unlocked_Mobile.csv\n",
      "\n",
      "Shape of dataset :  (413840, 6)\n"
     ]
    }
   ],
   "source": [
    "# collecting all the datasets and concatenating them to a single dataframe\n",
    "datasets=[]\n",
    "for dirname, _, filenames in os.walk('dataset/'):\n",
    "    for filename in filenames:\n",
    "        filepath=os.path.join(dirname, filename)\n",
    "        print(filepath)\n",
    "        datasets.append(filepath)\n",
    "\n",
    "# creating a empty dataframe\n",
    "amazon_data=pd.DataFrame()\n",
    "\n",
    "# adding all the datasets to the amazon_data dataframe\n",
    "for i in datasets:\n",
    "    amazon_data=pd.concat([amazon_data,pd.read_csv(i)])\n",
    "\n",
    "print(\"\\nShape of dataset : \",amazon_data.shape)"
   ]
  },
  {
   "cell_type": "code",
   "execution_count": 6,
   "metadata": {},
   "outputs": [
    {
     "name": "stdout",
     "output_type": "stream",
     "text": [
      "<class 'pandas.core.frame.DataFrame'>\n",
      "RangeIndex: 413840 entries, 0 to 413839\n",
      "Data columns (total 6 columns):\n",
      " #   Column        Non-Null Count   Dtype  \n",
      "---  ------        --------------   -----  \n",
      " 0   Product Name  413840 non-null  object \n",
      " 1   Brand Name    348669 non-null  object \n",
      " 2   Price         407907 non-null  float64\n",
      " 3   Rating        413840 non-null  int64  \n",
      " 4   Reviews       413778 non-null  object \n",
      " 5   Review Votes  401544 non-null  float64\n",
      "dtypes: float64(2), int64(1), object(3)\n",
      "memory usage: 18.9+ MB\n",
      "None\n",
      "\n",
      "\n",
      "Null values in each row  :\n",
      "\n",
      " Product Name        0\n",
      "Brand Name      65171\n",
      "Price            5933\n",
      "Rating              0\n",
      "Reviews            62\n",
      "Review Votes    12296\n",
      "dtype: int64\n",
      "\n",
      "Total null values in dataset  :   83462\n"
     ]
    }
   ],
   "source": [
    "print(amazon_data.info())\n",
    "print(\"\\n\\nNull values in each row  :\\n\\n\",amazon_data.isna().sum())\n",
    "print(\"\\nTotal null values in dataset  :  \",amazon_data.isna().sum().sum())\n"
   ]
  },
  {
   "cell_type": "code",
   "execution_count": 7,
   "metadata": {},
   "outputs": [
    {
     "name": "stdout",
     "output_type": "stream",
     "text": [
      "Shape of dataset before dropping null  :   (413840, 6)\n",
      "\n",
      "Shape of dataset after dropping null   :   (334335, 6) \n",
      "\n",
      "                                        Product Name Brand Name   Price  \\\n",
      "0  \"CLEAR CLEAN ESN\" Sprint EPIC 4G Galaxy SPH-D7...    Samsung  199.99   \n",
      "1  \"CLEAR CLEAN ESN\" Sprint EPIC 4G Galaxy SPH-D7...    Samsung  199.99   \n",
      "2  \"CLEAR CLEAN ESN\" Sprint EPIC 4G Galaxy SPH-D7...    Samsung  199.99   \n",
      "3  \"CLEAR CLEAN ESN\" Sprint EPIC 4G Galaxy SPH-D7...    Samsung  199.99   \n",
      "4  \"CLEAR CLEAN ESN\" Sprint EPIC 4G Galaxy SPH-D7...    Samsung  199.99   \n",
      "\n",
      "   Rating                                            Reviews  Review Votes  \n",
      "0       5  I feel so LUCKY to have found this used (phone...           1.0  \n",
      "1       4  nice phone, nice up grade from my pantach revu...           0.0  \n",
      "2       5                                       Very pleased           0.0  \n",
      "3       4  It works good but it goes slow sometimes but i...           0.0  \n",
      "4       4  Great phone to replace my lost phone. The only...           0.0  \n",
      "                                             Product Name Brand Name  Price  \\\n",
      "413835  Samsung Convoy U640 Phone for Verizon Wireless...    Samsung  79.95   \n",
      "413836  Samsung Convoy U640 Phone for Verizon Wireless...    Samsung  79.95   \n",
      "413837  Samsung Convoy U640 Phone for Verizon Wireless...    Samsung  79.95   \n",
      "413838  Samsung Convoy U640 Phone for Verizon Wireless...    Samsung  79.95   \n",
      "413839  Samsung Convoy U640 Phone for Verizon Wireless...    Samsung  79.95   \n",
      "\n",
      "        Rating                                            Reviews  \\\n",
      "413835       5                     another great deal great price   \n",
      "413836       3                                                 Ok   \n",
      "413837       5        Passes every drop test onto porcelain tile!   \n",
      "413838       3  I returned it because it did not meet my needs...   \n",
      "413839       4  Only downside is that apparently Verizon no lo...   \n",
      "\n",
      "        Review Votes  \n",
      "413835           0.0  \n",
      "413836           0.0  \n",
      "413837           0.0  \n",
      "413838           0.0  \n",
      "413839           0.0  \n"
     ]
    }
   ],
   "source": [
    "# Removinging all the rows with null values\n",
    "print(\"Shape of dataset before dropping null  :  \",amazon_data.shape )\n",
    "amazon_data=amazon_data.dropna(axis =0)\n",
    "\n",
    "print(\"\\nShape of dataset after dropping null   :  \",amazon_data.shape ,\"\\n\")\n",
    "print(amazon_data.head())\n",
    "print(amazon_data.tail())"
   ]
  },
  {
   "cell_type": "code",
   "execution_count": 8,
   "metadata": {},
   "outputs": [
    {
     "name": "stdout",
     "output_type": "stream",
     "text": [
      "Rating values in dataset are :  [1, 2, 3, 4, 5]\n"
     ]
    }
   ],
   "source": [
    "print(\"Rating values in dataset are : \", sorted(amazon_data.Rating.unique()))"
   ]
  },
  {
   "cell_type": "code",
   "execution_count": 9,
   "metadata": {},
   "outputs": [
    {
     "name": "stdout",
     "output_type": "stream",
     "text": [
      "Features are \n",
      " Index(['Product Name', 'Brand Name', 'Price', 'Rating', 'Reviews',\n",
      "       'Review Votes'],\n",
      "      dtype='object')\n"
     ]
    }
   ],
   "source": [
    "print(\"Features are \\n\",amazon_data.columns)"
   ]
  },
  {
   "cell_type": "code",
   "execution_count": 10,
   "metadata": {},
   "outputs": [
    {
     "data": {
      "text/html": [
       "<div>\n",
       "<style scoped>\n",
       "    .dataframe tbody tr th:only-of-type {\n",
       "        vertical-align: middle;\n",
       "    }\n",
       "\n",
       "    .dataframe tbody tr th {\n",
       "        vertical-align: top;\n",
       "    }\n",
       "\n",
       "    .dataframe thead th {\n",
       "        text-align: right;\n",
       "    }\n",
       "</style>\n",
       "<table border=\"1\" class=\"dataframe\">\n",
       "  <thead>\n",
       "    <tr style=\"text-align: right;\">\n",
       "      <th></th>\n",
       "      <th>Reviews</th>\n",
       "      <th>Rating</th>\n",
       "    </tr>\n",
       "  </thead>\n",
       "  <tbody>\n",
       "    <tr>\n",
       "      <th>0</th>\n",
       "      <td>I feel so LUCKY to have found this used (phone...</td>\n",
       "      <td>5</td>\n",
       "    </tr>\n",
       "    <tr>\n",
       "      <th>1</th>\n",
       "      <td>nice phone, nice up grade from my pantach revu...</td>\n",
       "      <td>4</td>\n",
       "    </tr>\n",
       "    <tr>\n",
       "      <th>2</th>\n",
       "      <td>Very pleased</td>\n",
       "      <td>5</td>\n",
       "    </tr>\n",
       "    <tr>\n",
       "      <th>3</th>\n",
       "      <td>It works good but it goes slow sometimes but i...</td>\n",
       "      <td>4</td>\n",
       "    </tr>\n",
       "    <tr>\n",
       "      <th>4</th>\n",
       "      <td>Great phone to replace my lost phone. The only...</td>\n",
       "      <td>4</td>\n",
       "    </tr>\n",
       "  </tbody>\n",
       "</table>\n",
       "</div>"
      ],
      "text/plain": [
       "                                             Reviews  Rating\n",
       "0  I feel so LUCKY to have found this used (phone...       5\n",
       "1  nice phone, nice up grade from my pantach revu...       4\n",
       "2                                       Very pleased       5\n",
       "3  It works good but it goes slow sometimes but i...       4\n",
       "4  Great phone to replace my lost phone. The only...       4"
      ]
     },
     "execution_count": 10,
     "metadata": {},
     "output_type": "execute_result"
    }
   ],
   "source": [
    "# here the target variable is Rating\n",
    "# we are dealing with reviews whether they are positive or negative or neutral\n",
    "# and also ratings to compare with predicted rating value and get the accuracy score\n",
    "# so we consider only reviews and rating to be features for the dataframe\n",
    "amazon_data=amazon_data[[\"Reviews\",\"Rating\"]] \n",
    "amazon_data.head()"
   ]
  },
  {
   "cell_type": "code",
   "execution_count": 11,
   "metadata": {},
   "outputs": [],
   "source": [
    "# spliting dataframe as positive and negative dataframes \n",
    "# considering 4,5 rating as positive review 1,2 as negative review"
   ]
  },
  {
   "cell_type": "code",
   "execution_count": 12,
   "metadata": {},
   "outputs": [
    {
     "name": "stdout",
     "output_type": "stream",
     "text": [
      "Value Count graph for each rating\n"
     ]
    },
    {
     "data": {
      "text/plain": [
       "<AxesSubplot:>"
      ]
     },
     "execution_count": 12,
     "metadata": {},
     "output_type": "execute_result"
    },
    {
     "data": {
      "image/png": "[encoded data removed]",
      "text/plain": [
       "<Figure size 432x288 with 1 Axes>"
      ]
     },
     "metadata": {
      "needs_background": "light"
     },
     "output_type": "display_data"
    }
   ],
   "source": [
    "print(\"Value Count graph for each rating\")\n",
    "sns.barplot(x=amazon_data.Rating.value_counts().index,y=amazon_data.Rating.value_counts().values)"
   ]
  },
  {
   "cell_type": "code",
   "execution_count": 13,
   "metadata": {},
   "outputs": [
    {
     "name": "stdout",
     "output_type": "stream",
     "text": [
      "                                             Reviews  Rating\n",
      "0  I feel so LUCKY to have found this used (phone...       5\n",
      "1  nice phone, nice up grade from my pantach revu...       4\n",
      "2                                       Very pleased       5\n",
      "3  It works good but it goes slow sometimes but i...       4\n",
      "4  Great phone to replace my lost phone. The only...       4\n",
      "                                                  Reviews  Rating\n",
      "413830                                            LOVE IT       5\n",
      "413832  good rugged phone that has a long-lasting batt...       4\n",
      "413835                     another great deal great price       5\n",
      "413837        Passes every drop test onto porcelain tile!       5\n",
      "413839  Only downside is that apparently Verizon no lo...       4\n"
     ]
    }
   ],
   "source": [
    "amazon_data_pos =amazon_data[amazon_data[\"Rating\"].isin([4,5])]\n",
    "print (amazon_data_pos.head())\n",
    "print(amazon_data_pos.tail())"
   ]
  },
  {
   "cell_type": "code",
   "execution_count": 14,
   "metadata": {},
   "outputs": [
    {
     "name": "stdout",
     "output_type": "stream",
     "text": [
      "                                              Reviews  Rating\n",
      "5   I already had a phone with problems... I know ...       1\n",
      "6   The charging port was loose. I got that solder...       2\n",
      "7   Phone looks good but wouldn't stay charged, ha...       2\n",
      "13  I'm really disappointed about my phone and ser...       1\n",
      "15  Had this phone before and loved it but was not...       2\n",
      "                                                  Reviews  Rating\n",
      "413817  This is the second junk Convoy I have owned. T...       1\n",
      "413820  They said phone was normal wear but it was a l...       1\n",
      "413828                                     Would not work       1\n",
      "413831  Item was listed as new, but was not. When we t...       1\n",
      "413834                                          used hard       1\n"
     ]
    }
   ],
   "source": [
    "amazon_data_neg=amazon_data[amazon_data[\"Rating\"].isin([1,2])] \n",
    "print(amazon_data_neg.head())\n",
    "print(amazon_data_neg.tail())"
   ]
  },
  {
   "cell_type": "code",
   "execution_count": 15,
   "metadata": {},
   "outputs": [
    {
     "name": "stdout",
     "output_type": "stream",
     "text": [
      "Shape of complete dataframe :  (334335, 2)\n",
      "Shape of positive dataframe :  (230674, 2)\n",
      "Shape of negative dataframe :  (77603, 2)\n"
     ]
    }
   ],
   "source": [
    "print(\"Shape of complete dataframe : \",amazon_data.shape)\n",
    "print(\"Shape of positive dataframe : \",amazon_data_pos.shape)\n",
    "print(\"Shape of negative dataframe : \",amazon_data_neg.shape)"
   ]
  },
  {
   "cell_type": "code",
   "execution_count": 16,
   "metadata": {},
   "outputs": [
    {
     "name": "stdout",
     "output_type": "stream",
     "text": [
      "(230674, 2)\n",
      "(77603, 2)\n",
      "(20000, 2)\n",
      "(20000, 2)\n"
     ]
    }
   ],
   "source": [
    "# considering equal rows from negative and positive dataframe each \n",
    "# to get equal amount of model training for positive and negative reviews\n",
    "\n",
    "minimumcount=min(20000,amazon_data_pos.shape[0],amazon_data_neg.shape[0])\n",
    "\n",
    "\n",
    "print(amazon_data_pos.shape)\n",
    "print(amazon_data_neg.shape)\n",
    "amazon_data_pos=amazon_data_pos[:minimumcount]\n",
    "amazon_data_neg=amazon_data_neg[:minimumcount]\n",
    "print(amazon_data_pos.shape)\n",
    "print(amazon_data_neg.shape)"
   ]
  },
  {
   "cell_type": "code",
   "execution_count": 17,
   "metadata": {},
   "outputs": [
    {
     "data": {
      "text/plain": [
       "<AxesSubplot:>"
      ]
     },
     "execution_count": 17,
     "metadata": {},
     "output_type": "execute_result"
    },
    {
     "data": {
      "image/png": "[encoded data removed]",
      "text/plain": [
       "<Figure size 432x288 with 1 Axes>"
      ]
     },
     "metadata": {
      "needs_background": "light"
     },
     "output_type": "display_data"
    }
   ],
   "source": [
    "# add an extra feature as r to consider 4,5 rating as 1 and 1,2 rating as 0 \n",
    "# here 0,1 indicates the rating as negative and posite respectively\n",
    "amazon_data_pos['r']=1\n",
    "amazon_data_neg['r']=0\n",
    "# merging two dataframes to single dataframe as filtered dataframe\n",
    "amazon_data_filtered =pd.concat([amazon_data_pos,amazon_data_neg])\n",
    "sns.barplot(x=amazon_data_filtered.Rating.value_counts().index,y=amazon_data_filtered.Rating.value_counts().values)"
   ]
  },
  {
   "cell_type": "code",
   "execution_count": 18,
   "metadata": {},
   "outputs": [
    {
     "name": "stdout",
     "output_type": "stream",
     "text": [
      "                                             Reviews  Rating  r\n",
      "0  I feel so LUCKY to have found this used (phone...       5  1\n",
      "1  nice phone, nice up grade from my pantach revu...       4  1\n",
      "2                                       Very pleased       5  1\n",
      "3  It works good but it goes slow sometimes but i...       4  1\n",
      "4  Great phone to replace my lost phone. The only...       4  1\n",
      "                                                  Reviews  Rating  r\n",
      "109307  Phone does not work, no one can hear me talkin...       1  0\n",
      "109308  A little disappointing, doesn't have any memor...       2  0\n",
      "109310                      poor volume very hard to hear       1  0\n",
      "109313  I received the phone with damaged screen , I r...       1  0\n",
      "109316  It was slow not what i expected small screen o...       1  0\n",
      "\n",
      " 1    20000\n",
      "0    20000\n",
      "Name: r, dtype: int64\n"
     ]
    }
   ],
   "source": [
    "print(amazon_data_filtered.head())\n",
    "print(amazon_data_filtered.tail())\n",
    "\n",
    "print(\"\\n\",amazon_data_filtered.r.value_counts())"
   ]
  },
  {
   "cell_type": "code",
   "execution_count": 19,
   "metadata": {},
   "outputs": [
    {
     "name": "stdout",
     "output_type": "stream",
     "text": [
      "total shape of dataframe :  (40000, 3)\n",
      "obtained rows of Y after split (train , test)  : ( 32000 , 8000 )\n",
      "obtained rows of X after split (train , test)  : ( 32000 , 8000 )\n",
      "sum = 40000\n",
      "\n",
      "87091    0\n",
      "8776     0\n",
      "84710    0\n",
      "2094     1\n",
      "19833    1\n",
      "Name: r, dtype: int64\n",
      "\n",
      "95062    0\n",
      "509      0\n",
      "31410    1\n",
      "31961    1\n",
      "20994    1\n",
      "Name: r, dtype: int64\n",
      "\n",
      "\n",
      "\n",
      "30056    1\n",
      "29083    0\n",
      "10860    1\n",
      "37771    0\n",
      "47271    0\n",
      "Name: r, dtype: int64\n",
      "\n",
      "89744    0\n",
      "34068    1\n",
      "4951     1\n",
      "93632    0\n",
      "12932    1\n",
      "Name: r, dtype: int64\n",
      "\n",
      "\n",
      "\n",
      "87091                                      Go with defects\n",
      "8776     love the phone but was a little disappointed w...\n",
      "84710    I am an American consumer and was excited to r...\n",
      "2094     Beautiful phone at an incredible price point. ...\n",
      "19833    Excellent! The phone is in great condition. Ex...\n",
      "Name: Reviews, dtype: object\n",
      "\n",
      "95062    unfortunately the blackberry doesn't work, has...\n",
      "509      It was advertised as being unlocked and compat...\n",
      "31410                           Good purchase - works well\n",
      "31961    Lovely little phone I got after my iPhone 6 wa...\n",
      "20994                                              Love it\n",
      "Name: Reviews, dtype: object\n",
      "\n",
      "\n",
      "\n",
      "30056    Great phone, great price, shipped fast. Great ...\n",
      "29083    I bought this for my daughter less than 1 yr a...\n",
      "10860                                            excellent\n",
      "37771    Scam! When I was buying it, it was a sim card,...\n",
      "47271    Disappointed. Phone is blocked due to owner's ...\n",
      "Name: Reviews, dtype: object\n",
      "\n",
      "89744    received it on time, however the ear speaker w...\n",
      "34068    Absolutely met expectations. I was worried aft...\n",
      "4951     iphone was in a vary good condition. there ver...\n",
      "93632    My Blackberry 8520 came with a bad battery (I ...\n",
      "12932    exactly as described, great condition, refurb ...\n",
      "Name: Reviews, dtype: object\n",
      "\n",
      "\n",
      "\n"
     ]
    }
   ],
   "source": [
    "amazon_data_filtered[\"Reviews\"]\n",
    "from sklearn.model_selection import train_test_split\n",
    "X_train_data, x_test_data,Y_train_data,y_test_data=train_test_split(amazon_data_filtered[\"Reviews\"],amazon_data_filtered[\"r\"],test_size=0.2,shuffle=True)\n",
    "\n",
    "print(\"total shape of dataframe : \",amazon_data_filtered.shape)\n",
    "print(\"obtained rows of Y after split (train , test)  : (\",Y_train_data.shape[0],\",\", y_test_data.shape[0],\")\")\n",
    "print(\"obtained rows of X after split (train , test)  : (\",X_train_data.shape[0],\",\", x_test_data.shape[0],\")\")\n",
    "print(\"sum =\", sum((Y_train_data.shape[0],y_test_data.shape[0])))\n",
    "print()\n",
    "print(Y_train_data.head(), y_test_data.head(),\"\\n\", sep=\"\\n\\n\")\n",
    "print(Y_train_data.tail(), y_test_data.tail(),\"\\n\", sep=\"\\n\\n\")\n",
    "print(X_train_data.head(), x_test_data.head(),\"\\n\", sep=\"\\n\\n\")\n",
    "print(X_train_data.tail(), x_test_data.tail(),\"\\n\", sep=\"\\n\\n\")"
   ]
  },
  {
   "cell_type": "code",
   "execution_count": 20,
   "metadata": {},
   "outputs": [
    {
     "name": "stdout",
     "output_type": "stream",
     "text": [
      "['00', '000', '0000', '000mah', '002', '00emotional', '00now', '00pm', '00so', '00time', '01', '013435003182980', '014', '018633051660f', '02', '03', '04', '04th', '06', '07']\n",
      "zenphone\n"
     ]
    }
   ],
   "source": [
    "#tfidf Vectorizer\n",
    "\n",
    "from sklearn.feature_extraction.text import TfidfVectorizer \n",
    "tfidf_vector=TfidfVectorizer(stop_words= \"english\")\n",
    "\n",
    "tfidf_vector.fit(X_train_data)\n",
    "print(tfidf_vector.get_feature_names()[:20])\n",
    "\n",
    "print(tfidf_vector.get_feature_names()[-28])\n"
   ]
  },
  {
   "cell_type": "code",
   "execution_count": 21,
   "metadata": {},
   "outputs": [
    {
     "name": "stdout",
     "output_type": "stream",
     "text": [
      "(32000, 15528)\n"
     ]
    }
   ],
   "source": [
    "X_train_data_new=tfidf_vector.transform(X_train_data)\n",
    "\n",
    "print(X_train_data_new.shape)\n",
    "\n",
    "x_test_data_new=tfidf_vector.transform(x_test_data)"
   ]
  },
  {
   "cell_type": "code",
   "execution_count": 22,
   "metadata": {},
   "outputs": [
    {
     "name": "stdout",
     "output_type": "stream",
     "text": [
      "  (0, 4043)\t1.0\n",
      "  (1, 15305)\t0.20356276229346879\n",
      "  (1, 15044)\t0.38431596683369434\n",
      "  (1, 12945)\t0.2929933534139658\n",
      "  (1, 11997)\t0.23675684234386077\n",
      "  (1, 10157)\t0.09184593890134056\n",
      "  (1, 8379)\t0.20588446890753603\n",
      "  (1, 8233)\t0.26365773572987583\n",
      "  (1, 8059)\t0.3297246345330459\n",
      "  (1, 6144)\t0.3420575756298256\n",
      "  (1, 6122)\t0.3219632069485964\n",
      "  (1, 4478)\t0.2530981626381678\n",
      "  (1, 940)\t0.39393442733452577\n",
      "  (2, 14828)\t0.09018424744375411\n",
      "  (2, 14647)\t0.05724721600378502\n",
      "  (2, 14625)\t0.11286291478118275\n",
      "  (2, 13456)\t0.10208222181390401\n",
      "  (2, 13300)\t0.12981007293151456\n",
      "  (2, 12934)\t0.35852850348559906\n",
      "  (2, 12189)\t0.1316395249006128\n",
      "  (2, 11823)\t0.11891154816144159\n",
      "  (2, 11561)\t0.08476676893703763\n",
      "  (2, 11452)\t0.12110911423838903\n",
      "  (2, 11178)\t0.06304733160227488\n",
      "  (2, 10320)\t0.20564667371322604\n",
      "  :\t:\n",
      "  (31996, 1102)\t0.23757298054193002\n",
      "  (31997, 5388)\t1.0\n",
      "  (31998, 15295)\t0.18667534676976927\n",
      "  (31998, 12581)\t0.1693413265852145\n",
      "  (31998, 12399)\t0.3078903725681622\n",
      "  (31998, 12092)\t0.2879678906457484\n",
      "  (31998, 11793)\t0.4073908745763562\n",
      "  (31998, 7600)\t0.13519741076332403\n",
      "  (31998, 4365)\t0.17856087592609565\n",
      "  (31998, 4361)\t0.16356797295596076\n",
      "  (31998, 4199)\t0.21803246550389035\n",
      "  (31998, 3620)\t0.3840994780643486\n",
      "  (31998, 2874)\t0.3241942066881674\n",
      "  (31998, 2833)\t0.38064063104069484\n",
      "  (31998, 2699)\t0.17073908945678154\n",
      "  (31998, 2550)\t0.20410324426927048\n",
      "  (31999, 15236)\t0.3516034936825006\n",
      "  (31999, 13107)\t0.32712710482465795\n",
      "  (31999, 10157)\t0.10292700671939288\n",
      "  (31999, 9972)\t0.3055635661921987\n",
      "  (31999, 9796)\t0.3785956593074542\n",
      "  (31999, 5592)\t0.43494507612488714\n",
      "  (31999, 4478)\t0.28363405718469353\n",
      "  (31999, 2199)\t0.4007263514450237\n",
      "  (31999, 911)\t0.3030808459697974 87091    0\n",
      "8776     0\n",
      "84710    0\n",
      "2094     1\n",
      "19833    1\n",
      "        ..\n",
      "30056    1\n",
      "29083    0\n",
      "10860    1\n",
      "37771    0\n",
      "47271    0\n",
      "Name: r, Length: 32000, dtype: int64\n"
     ]
    }
   ],
   "source": [
    "print(X_train_data_new,Y_train_data)\n",
    "# xczx"
   ]
  },
  {
   "cell_type": "code",
   "execution_count": 23,
   "metadata": {},
   "outputs": [],
   "source": [
    "# function to calculate time taken \n",
    "def calcTime(startTime):\n",
    "    endTime=time.time()\n",
    "    Time=(endTime-startTime)\n",
    "    return str(round(Time/60.0,4))+\" min  or  \"+str(round(Time,4))+\" sec\"\n",
    "\n",
    "def modelAnalyzer(classifierName):\n",
    "    print(\"\\n\\n\",classifierName,\" Classifier\",sep=\"\") \n",
    "    print(\"Accuracy                :::\", accuracy[classifierName])\n",
    "    #Generating Confusion matrix\n",
    "    print(\"Confusion matrix        :::\")\n",
    "    print(confusion_matrix(y_test_data, predictions[classifierName]))\n",
    "\n",
    "    #Calculating Precision, Recall and Measure\n",
    "    print(\"\\nclassification report   :::\")\n",
    "    print(classification_report(y_test_data, predictions[classifierName], target_names=[\"Positive\", \"Negative\"]))\n",
    "\n",
    "    #Generating ROC curve\n",
    "    false_positive, true_positive,_= roc_curve(y_test_data,predictions[classifierName])\n",
    "    plt.title(\"Receiver perating characteristic\")\n",
    "    plt.plot(false_positive, true_positive)\n",
    "    plt.ylabel(\"True Positive Rate\")\n",
    "    plt.xlabel(\"False Positive Rate\")\n",
    "    plt.show()\n",
    "\n",
    "\n",
    "predictions=dict()\n",
    "accuracy=dict()\n"
   ]
  },
  {
   "cell_type": "code",
   "execution_count": 24,
   "metadata": {},
   "outputs": [
    {
     "name": "stdout",
     "output_type": "stream",
     "text": [
      "\n",
      "\n",
      "SVM classifier\n",
      "Please be patient. This may take some time.\n",
      "Train Started\n",
      "Time taken to fit       ::: 2.6623 min  or  159.7409 sec\n",
      "Time taken to predict   ::: 0.1597 min  or  9.5828 sec\n",
      "Accuracy                ::: 0.971625\n",
      "\n",
      "\n",
      "SVM Classifier\n",
      "Accuracy                ::: 0.971625\n",
      "Confusion matrix        :::\n",
      "[[3928  117]\n",
      " [ 110 3845]]\n",
      "\n",
      "classification report   :::\n",
      "              precision    recall  f1-score   support\n",
      "\n",
      "    Positive       0.97      0.97      0.97      4045\n",
      "    Negative       0.97      0.97      0.97      3955\n",
      "\n",
      "    accuracy                           0.97      8000\n",
      "   macro avg       0.97      0.97      0.97      8000\n",
      "weighted avg       0.97      0.97      0.97      8000\n",
      "\n"
     ]
    },
    {
     "data": {
      "image/png": "[encoded data removed]",
      "text/plain": [
       "<Figure size 432x288 with 1 Axes>"
      ]
     },
     "metadata": {
      "needs_background": "light"
     },
     "output_type": "display_data"
    },
    {
     "name": "stdout",
     "output_type": "stream",
     "text": [
      "Overall time taken for SVM classifier ::: 2.8253 min  or  169.5196 sec\n"
     ]
    }
   ],
   "source": [
    "#1. SVM classifier\n",
    "print(\"\\n\\nSVM classifier\") \n",
    "print(\"Please be patient. This may take some time.\")\n",
    "svm_model=SVC()\n",
    "\n",
    "#Train Model\n",
    "print(\"Train Started\")\n",
    "aaa=time.time()\n",
    "svm_model.fit(X_train_data_new,Y_train_data)\n",
    "print(\"Time taken to fit       :::\",calcTime(aaa))\n",
    "\n",
    "#Test Model\n",
    "x=time.time()\n",
    "predictions['SVM']=svm_model.predict(x_test_data_new)\n",
    "print(\"Time taken to predict   :::\",calcTime(x))\n",
    "\n",
    "# Calculating model accuracy\n",
    "accuracy['SVM']=accuracy_score(y_test_data, predictions['SVM'])\n",
    "print(\"Accuracy                :::\", accuracy['SVM'])\n",
    "\n",
    "modelAnalyzer('SVM')\n",
    "print(\"Overall time taken for SVM classifier :::\",calcTime(aaa))"
   ]
  },
  {
   "cell_type": "code",
   "execution_count": 25,
   "metadata": {},
   "outputs": [
    {
     "name": "stdout",
     "output_type": "stream",
     "text": [
      "\n",
      "\n",
      "Multinomial Naive Bayes Classifier\n",
      "Please be patient. This may take some time.\n",
      "Train Started\n",
      "Time taken to fit       ::: 0.0002 min  or  0.012 sec\n",
      "Time taken to predict   ::: 0.0 min  or  0.002 sec\n",
      "Accuracy                ::: 0.939\n",
      "\n",
      "\n",
      "Multinomial Naive Bayes Classifier\n",
      "Accuracy                ::: 0.939\n",
      "Confusion matrix        :::\n",
      "[[3826  219]\n",
      " [ 269 3686]]\n",
      "\n",
      "classification report   :::\n",
      "              precision    recall  f1-score   support\n",
      "\n",
      "    Positive       0.93      0.95      0.94      4045\n",
      "    Negative       0.94      0.93      0.94      3955\n",
      "\n",
      "    accuracy                           0.94      8000\n",
      "   macro avg       0.94      0.94      0.94      8000\n",
      "weighted avg       0.94      0.94      0.94      8000\n",
      "\n"
     ]
    },
    {
     "data": {
      "image/png": "[encoded data removed]",
      "text/plain": [
       "<Figure size 432x288 with 1 Axes>"
      ]
     },
     "metadata": {
      "needs_background": "light"
     },
     "output_type": "display_data"
    },
    {
     "name": "stdout",
     "output_type": "stream",
     "text": [
      "Overall time taken for Multinomial Naive Bayes Classifier::: 0.0038 min  or  0.225 sec\n"
     ]
    }
   ],
   "source": [
    "#2. Multinomial Naive Bayes Classifier\n",
    "\n",
    "print(\"\\n\\nMultinomial Naive Bayes Classifier\") \n",
    "print(\"Please be patient. This may take some time.\")\n",
    "\n",
    "mul_model=MultinomialNB()\n",
    "\n",
    "#Train Model\n",
    "print(\"Train Started\")\n",
    "aaa=time.time()\n",
    "mul_model.fit(X_train_data_new,Y_train_data)\n",
    "print(\"Time taken to fit       :::\",calcTime(aaa))\n",
    "\n",
    "#Test Model\n",
    "x=time.time()\n",
    "predictions[\"Multinomial Naive Bayes\"]=mul_model.predict(x_test_data_new)\n",
    "print(\"Time taken to predict   :::\",calcTime(x))\n",
    "\n",
    "#Calculating model accuracy\n",
    "accuracy[\"Multinomial Naive Bayes\"]=accuracy_score(y_test_data, predictions[\"Multinomial Naive Bayes\"])\n",
    "print(\"Accuracy                :::\", accuracy[\"Multinomial Naive Bayes\"])\n",
    "\n",
    "modelAnalyzer(\"Multinomial Naive Bayes\")\n",
    "\n",
    "print(\"Overall time taken for Multinomial Naive Bayes Classifier:::\",calcTime(aaa))"
   ]
  },
  {
   "cell_type": "code",
   "execution_count": 26,
   "metadata": {},
   "outputs": [
    {
     "name": "stdout",
     "output_type": "stream",
     "text": [
      "\n",
      "\n",
      "Bernoulli Naive Bayes Classifier\n",
      "Please be patient. This may take some time\n",
      "Train Started\n",
      "Time taken to fit       ::: 0.0003 min  or  0.016 sec\n",
      "Time taken to predict   ::: 0.0001 min  or  0.004 sec\n",
      "Accuracy                ::: 0.821375\n",
      "\n",
      "\n",
      "Bernoulli Naive Bayes Classifier\n",
      "Accuracy                ::: 0.821375\n",
      "Confusion matrix        :::\n",
      "[[2799 1246]\n",
      " [ 183 3772]]\n",
      "\n",
      "classification report   :::\n",
      "              precision    recall  f1-score   support\n",
      "\n",
      "    Positive       0.94      0.69      0.80      4045\n",
      "    Negative       0.75      0.95      0.84      3955\n",
      "\n",
      "    accuracy                           0.82      8000\n",
      "   macro avg       0.85      0.82      0.82      8000\n",
      "weighted avg       0.85      0.82      0.82      8000\n",
      "\n"
     ]
    },
    {
     "data": {
      "image/png": "[encoded data removed]",
      "text/plain": [
       "<Figure size 432x288 with 1 Axes>"
      ]
     },
     "metadata": {
      "needs_background": "light"
     },
     "output_type": "display_data"
    },
    {
     "name": "stdout",
     "output_type": "stream",
     "text": [
      "Overall time taken for Bernoulli Naive Bayes Classifier ::: 0.0036 min  or  0.217 sec\n"
     ]
    }
   ],
   "source": [
    "#3. Bernoulli Naive Bayes Classifier\n",
    "\n",
    "print(\"\\n\\nBernoulli Naive Bayes Classifier\") \n",
    "print(\"Please be patient. This may take some time\")\n",
    "\n",
    "ber_model=BernoulliNB()\n",
    "\n",
    "#Train Model\n",
    "print(\"Train Started\")\n",
    "aaa=time.time()\n",
    "ber_model.fit(X_train_data_new ,Y_train_data)\n",
    "print(\"Time taken to fit       :::\",calcTime(aaa))\n",
    "\n",
    "#Test Model\n",
    "x=time.time()\n",
    "predictions [\"Bernoulli Naive Bayes\"]=ber_model.predict(x_test_data_new)\n",
    "print(\"Time taken to predict   :::\",calcTime(x))\n",
    "\n",
    "#Calculating model accuracy\n",
    "accuracy[\"Bernoulli Naive Bayes\"]=accuracy_score(y_test_data, predictions[\"Bernoulli Naive Bayes\"])\n",
    "print(\"Accuracy                :::\", accuracy[\"Bernoulli Naive Bayes\"])\n",
    "\n",
    "modelAnalyzer(\"Bernoulli Naive Bayes\")\n",
    "\n",
    "print(\"Overall time taken for Bernoulli Naive Bayes Classifier :::\",calcTime(aaa))"
   ]
  },
  {
   "cell_type": "code",
   "execution_count": 27,
   "metadata": {},
   "outputs": [
    {
     "name": "stdout",
     "output_type": "stream",
     "text": [
      "\n",
      "\n",
      "RandomForest Classifier\n",
      "Please be patient. This may take some time\n",
      "Train Started\n",
      "Time taken to fit       ::: 0.4622 min  or  27.7299 sec\n",
      "Time taken to predict   ::: 0.0058 min  or  0.349 sec\n",
      "Accuracy                ::: 0.96825\n",
      "\n",
      "\n",
      "RandomForest Classifier\n",
      "Accuracy                ::: 0.96825\n",
      "Confusion matrix        :::\n",
      "[[3935  110]\n",
      " [ 144 3811]]\n",
      "\n",
      "classification report   :::\n",
      "              precision    recall  f1-score   support\n",
      "\n",
      "    Positive       0.96      0.97      0.97      4045\n",
      "    Negative       0.97      0.96      0.97      3955\n",
      "\n",
      "    accuracy                           0.97      8000\n",
      "   macro avg       0.97      0.97      0.97      8000\n",
      "weighted avg       0.97      0.97      0.97      8000\n",
      "\n"
     ]
    },
    {
     "data": {
      "image/png": "[encoded data removed]",
      "text/plain": [
       "<Figure size 432x288 with 1 Axes>"
      ]
     },
     "metadata": {
      "needs_background": "light"
     },
     "output_type": "display_data"
    },
    {
     "name": "stdout",
     "output_type": "stream",
     "text": [
      "Overall time taken for RandomForest Classifier ::: 0.4711 min  or  28.269 sec\n"
     ]
    }
   ],
   "source": [
    "#4. RandomForest Classifier\n",
    "\n",
    "print(\"\\n\\nRandomForest Classifier\") \n",
    "print(\"Please be patient. This may take some time\")\n",
    "\n",
    "rfc_model=RandomForestClassifier()\n",
    "\n",
    "#Train Model\n",
    "print(\"Train Started\")\n",
    "aaa=time.time()\n",
    "rfc_model.fit(X_train_data_new ,Y_train_data)\n",
    "print(\"Time taken to fit       :::\",calcTime(aaa))\n",
    "\n",
    "#Test Model\n",
    "x=time.time()\n",
    "predictions [\"RandomForest\"]=rfc_model.predict(x_test_data_new)\n",
    "print(\"Time taken to predict   :::\",calcTime(x))\n",
    "\n",
    "#Calculating model accuracy\n",
    "accuracy[\"RandomForest\"]=accuracy_score(y_test_data, predictions[\"RandomForest\"])\n",
    "print(\"Accuracy                :::\", accuracy[\"RandomForest\"])\n",
    "\n",
    "modelAnalyzer(\"RandomForest\")\n",
    "\n",
    "print(\"Overall time taken for RandomForest Classifier :::\",calcTime(aaa))"
   ]
  },
  {
   "cell_type": "code",
   "execution_count": 28,
   "metadata": {},
   "outputs": [
    {
     "name": "stdout",
     "output_type": "stream",
     "text": [
      "\n",
      "\n",
      "Calculating Accuracy of each model\n",
      "\n",
      "\n",
      "                     Model  Accuracy\n",
      "0                      SVM  0.971625\n",
      "1  Multinomial Naive Bayes  0.939000\n",
      "2    Bernoulli Naive Bayes  0.821375\n",
      "3             RandomForest  0.968250\n"
     ]
    },
    {
     "data": {
      "image/png": "[encoded data removed]",
      "text/plain": [
       "<Figure size 360x288 with 1 Axes>"
      ]
     },
     "metadata": {
      "needs_background": "light"
     },
     "output_type": "display_data"
    }
   ],
   "source": [
    "#GUI Code\n",
    "\n",
    "def compare_models():\n",
    "    print(\"\\n\\nCalculating Accuracy of each model\\n\\n\")\n",
    "    \n",
    "    #Model Accuracy Table    \n",
    "    result_table=pd.DataFrame(list(accuracy.items()), columns=[\"Model\", \"Accuracy\"]) \n",
    "    print (result_table)\n",
    "\n",
    "    #Bar chart comparing accuracies of models \n",
    "    plt.figure(figsize =(5,4))   #\n",
    "\n",
    "    sns.barplot(x=\"Model\", y=\"Accuracy\", data =result_table) \n",
    "    plt.title(\"Model accuracy\")\n",
    "\n",
    "    plt.xticks (rotation = 90)  #\n",
    "compare_models()"
   ]
  },
  {
   "cell_type": "code",
   "execution_count": 29,
   "metadata": {},
   "outputs": [
    {
     "name": "stdout",
     "output_type": "stream",
     "text": [
      "Classifier Model\n",
      "1: SVM\n",
      "2: Multinomial Naive Bayes\n",
      "3: Bernoulli Naive Bayes\n",
      "4: RandomForest\n",
      "Enter your choice\n",
      "a\n"
     ]
    },
    {
     "ename": "ValueError",
     "evalue": "invalid literal for int() with base 10: 'a'",
     "output_type": "error",
     "traceback": [
      "\u001b[1;31m---------------------------------------------------------------------------\u001b[0m",
      "\u001b[1;31mValueError\u001b[0m                                Traceback (most recent call last)",
      "\u001b[1;32m<ipython-input-29-000fc24f49c3>\u001b[0m in \u001b[0;36m<module>\u001b[1;34m\u001b[0m\n\u001b[0;32m     12\u001b[0m     \u001b[0mget_Details\u001b[0m\u001b[1;33m(\u001b[0m\u001b[0mchoice\u001b[0m\u001b[1;33m)\u001b[0m\u001b[1;33m\u001b[0m\u001b[1;33m\u001b[0m\u001b[0m\n\u001b[0;32m     13\u001b[0m \u001b[1;33m\u001b[0m\u001b[0m\n\u001b[1;32m---> 14\u001b[1;33m \u001b[0manalyze_each\u001b[0m\u001b[1;33m(\u001b[0m\u001b[1;33m)\u001b[0m\u001b[1;33m\u001b[0m\u001b[1;33m\u001b[0m\u001b[0m\n\u001b[0m",
      "\u001b[1;32m<ipython-input-29-000fc24f49c3>\u001b[0m in \u001b[0;36manalyze_each\u001b[1;34m()\u001b[0m\n\u001b[0;32m      9\u001b[0m         \u001b[0mi\u001b[0m\u001b[1;33m+=\u001b[0m\u001b[1;36m1\u001b[0m\u001b[1;33m\u001b[0m\u001b[1;33m\u001b[0m\u001b[0m\n\u001b[0;32m     10\u001b[0m     \u001b[0mprint\u001b[0m\u001b[1;33m(\u001b[0m\u001b[1;34m\"Enter your choice\"\u001b[0m\u001b[1;33m)\u001b[0m\u001b[1;33m\u001b[0m\u001b[1;33m\u001b[0m\u001b[0m\n\u001b[1;32m---> 11\u001b[1;33m     \u001b[0mchoice\u001b[0m\u001b[1;33m=\u001b[0m\u001b[0mint\u001b[0m\u001b[1;33m(\u001b[0m\u001b[0minput\u001b[0m\u001b[1;33m(\u001b[0m\u001b[1;33m)\u001b[0m\u001b[1;33m)\u001b[0m\u001b[1;33m\u001b[0m\u001b[1;33m\u001b[0m\u001b[0m\n\u001b[0m\u001b[0;32m     12\u001b[0m     \u001b[0mget_Details\u001b[0m\u001b[1;33m(\u001b[0m\u001b[0mchoice\u001b[0m\u001b[1;33m)\u001b[0m\u001b[1;33m\u001b[0m\u001b[1;33m\u001b[0m\u001b[0m\n\u001b[0;32m     13\u001b[0m \u001b[1;33m\u001b[0m\u001b[0m\n",
      "\u001b[1;31mValueError\u001b[0m: invalid literal for int() with base 10: 'a'"
     ]
    }
   ],
   "source": [
    "def analyze_each():\n",
    "    def get_Details(choice): \n",
    "        print(\"Details are\")\n",
    "        modelAnalyzer(list(accuracy.keys())[choice-1])\n",
    "    print(\"Classifier Model\") \n",
    "    i=1\n",
    "    for classifier in accuracy.keys():\n",
    "        print(i,\": \",classifier,sep=\"\")\n",
    "        i+=1\n",
    "    print(\"Enter your choice\")\n",
    "    choice=int(input())\n",
    "    get_Details(choice)\n",
    "    \n",
    "analyze_each()"
   ]
  },
  {
   "cell_type": "code",
   "execution_count": null,
   "metadata": {},
   "outputs": [],
   "source": [
    "accuracy.keys()"
   ]
  },
  {
   "cell_type": "code",
   "execution_count": 31,
   "metadata": {},
   "outputs": [
    {
     "name": "stdout",
     "output_type": "stream",
     "text": [
      "Customer Review  :::\n",
      "21qw\n",
      "Rating  ::: Positive\n"
     ]
    }
   ],
   "source": [
    "def predict_rating(): \n",
    "    print(\"Customer Review  :::\")\n",
    "    \n",
    "    Inp_text=input()\n",
    "\n",
    "    review=Inp_text\n",
    "    new_test_transform = tfidf_vector.transform([review])\n",
    "    \n",
    "    Out_text=\"Positive\" if rfc_model.predict(new_test_transform) else \"Negative\"\n",
    "    \n",
    "    \n",
    "    print (\"Rating  :::\", Out_text)\n",
    "\n",
    "predict_rating()"
   ]
  },
  {
   "cell_type": "code",
   "execution_count": null,
   "metadata": {},
   "outputs": [
    {
     "name": "stdout",
     "output_type": "stream",
     "text": [
      "Sentiment Analysis of Customer Reviews\n",
      "1: Analyze the model\n",
      "2: Predict the Rating\n",
      "3: Compare the Models\n",
      "4: Quit\n",
      "2\n",
      "Customer Review  :::\n",
      "working\n",
      "Rating  ::: Positive\n",
      "1: Analyze the model\n",
      "2: Predict the Rating\n",
      "3: Compare the Models\n",
      "4: Quit\n",
      "2\n",
      "Customer Review  :::\n",
      "sadsad\n",
      "Rating  ::: Positive\n",
      "1: Analyze the model\n",
      "2: Predict the Rating\n",
      "3: Compare the Models\n",
      "4: Quit\n",
      "2\n",
      "Customer Review  :::\n",
      "sad\n",
      "Rating  ::: Negative\n",
      "1: Analyze the model\n",
      "2: Predict the Rating\n",
      "3: Compare the Models\n",
      "4: Quit\n",
      "2\n",
      "Customer Review  :::\n",
      "im sad\n",
      "Rating  ::: Negative\n",
      "1: Analyze the model\n",
      "2: Predict the Rating\n",
      "3: Compare the Models\n",
      "4: Quit\n"
     ]
    }
   ],
   "source": [
    "def actions(choice):\n",
    "    if choice==1: \n",
    "        analyze_each()\n",
    "    elif choice==2:\n",
    "        predict_rating() \n",
    "    else:\n",
    "        compare_models() \n",
    "            \n",
    "print(\"Sentiment Analysis of Customer Reviews\") \n",
    "while(True):\n",
    "    print(\"1: Analyze the model\")\n",
    "    print(\"2: Predict the Rating\")\n",
    "    print(\"3: Compare the Models\")\n",
    "    print(\"4: Quit\")\n",
    "    choice=int(input())\n",
    "    if(choice == 4):\n",
    "        break\n",
    "    actions(choice)\n"
   ]
  },
  {
   "cell_type": "markdown",
   "metadata": {},
   "source": [
    "## MODEL SAVE "
   ]
  },
  {
   "cell_type": "code",
   "execution_count": null,
   "metadata": {},
   "outputs": [],
   "source": [
    "import pickle \n",
    "file=open(\"svm_model.pkl\",\"wb\")\n",
    "pickle.dump(svm_model,file)"
   ]
  },
  {
   "cell_type": "code",
   "execution_count": null,
   "metadata": {},
   "outputs": [],
   "source": [
    "file"
   ]
  }
 ],
 "metadata": {
  "kernelspec": {
   "display_name": "Python 3",
   "language": "python",
   "name": "python3"
  },
  "language_info": {
   "codemirror_mode": {
    "name": "ipython",
    "version": 3
   },
   "file_extension": ".py",
   "mimetype": "text/x-python",
   "name": "python",
   "nbconvert_exporter": "python",
   "pygments_lexer": "ipython3",
   "version": "3.8.5"
  }
 },
 "nbformat": 4,
 "nbformat_minor": 4
}
